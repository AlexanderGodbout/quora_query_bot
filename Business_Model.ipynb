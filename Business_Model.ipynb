{
 "cells": [
  {
   "cell_type": "code",
   "execution_count": 18,
   "metadata": {
    "ExecuteTime": {
     "end_time": "2020-10-20T03:03:24.892817Z",
     "start_time": "2020-10-20T03:03:24.887217Z"
    }
   },
   "outputs": [],
   "source": []
  },
  {
   "cell_type": "markdown",
   "metadata": {},
   "source": [
    "# 1. Revenue "
   ]
  },
  {
   "cell_type": "code",
   "execution_count": null,
   "metadata": {},
   "outputs": [],
   "source": [
    "\n"
   ]
  },
  {
   "cell_type": "markdown",
   "metadata": {},
   "source": [
    "# 2. Cost"
   ]
  },
  {
   "cell_type": "code",
   "execution_count": 56,
   "metadata": {
    "ExecuteTime": {
     "end_time": "2020-10-06T15:13:29.701463Z",
     "start_time": "2020-10-06T15:13:29.692170Z"
    }
   },
   "outputs": [
    {
     "name": "stdout",
     "output_type": "stream",
     "text": [
      "10488640000.0\n"
     ]
    }
   ],
   "source": [
    "words_per_sentence = 20 \n",
    "character_per_word = 4 \n",
    "bytes_per_sentence = words_per_sentence * character_per_word \n",
    "bytes_per_sentence_metadata = 80\n",
    "\n",
    "reddit_requests_per_minute = 30 \n",
    "twitter_requests_per_minute = 900/15 \n",
    "youtube_requests_per_minute = 50000/(24*60)\n",
    " \n",
    "sentences_per_day = (60*24)*(reddit_requests_per_minute + twitter_requests_per_minute + youtube_requests_per_minute) \n",
    "memory_needed_per_day = sentences_per_day * (bytes_per_sentence + metadata_per_sentence) \n",
    "memory_needed_per_year = 365 * memory_needed_per_day\n",
    "\n",
    "print(memory_needed_per_year)\n"
   ]
  },
  {
   "cell_type": "markdown",
   "metadata": {
    "ExecuteTime": {
     "end_time": "2020-10-06T15:13:05.804235Z",
     "start_time": "2020-10-06T15:13:05.797496Z"
    }
   },
   "source": [
    "# 3. Profit\n",
    "\n",
    "\n",
    "\n"
   ]
  },
  {
   "cell_type": "code",
   "execution_count": null,
   "metadata": {},
   "outputs": [],
   "source": []
  },
  {
   "cell_type": "markdown",
   "metadata": {
    "ExecuteTime": {
     "end_time": "2020-10-06T15:12:32.345586Z",
     "start_time": "2020-10-06T15:12:32.337938Z"
    }
   },
   "source": [
    "# 4. All Estimates"
   ]
  },
  {
   "cell_type": "code",
   "execution_count": 54,
   "metadata": {
    "ExecuteTime": {
     "end_time": "2020-10-06T15:12:37.967432Z",
     "start_time": "2020-10-06T15:12:37.939865Z"
    }
   },
   "outputs": [
    {
     "name": "stdout",
     "output_type": "stream",
     "text": [
      "words_per_sentence                         20\n",
      "character_per_word                          4\n",
      "bytes_per_sentence                         80\n",
      "metadata_per_sentence                      80\n",
      "reddit_api_call_limit                      60\n",
      "twitter_api_call_limit                     60\n",
      "youtube_api_call_limit                     60\n",
      "sentences_per_day                      179600\n",
      "memory_needed_per_day                28736000\n",
      "memory_needed_per_year            10488640000\n",
      "bytes_per_sentence_metadata                80\n",
      "reddit_requests_per_minute                 30\n",
      "twitter_requests_per_minute                60\n",
      "youtube_requests_per_minute                35\n"
     ]
    }
   ],
   "source": [
    "for k,v in locals().items(): \n",
    "    if '__' not in k and 'pdb' not in k and not k[0] == '_' \\\n",
    "    and isinstance(v, (int, float)): \n",
    "        print('{:<30}{:>15}'.format(k, round(v)))"
   ]
  },
  {
   "cell_type": "code",
   "execution_count": 14,
   "metadata": {
    "ExecuteTime": {
     "end_time": "2020-10-21T14:42:23.409382Z",
     "start_time": "2020-10-21T14:42:21.735112Z"
    }
   },
   "outputs": [
    {
     "name": "stdout",
     "output_type": "stream",
     "text": [
      "[{'count(*)': 48858}]\n",
      "[{'count(DISTINCT question)': 45956}]\n",
      "\u001b[94mreddit    \u001b[0m  What is this?\n",
      "\u001b[94mreddit    \u001b[0mHello! Saw this game has been on early access for 5 years now, how are things going?\n",
      "\u001b[94mreddit    \u001b[0mIs it possible for me to boof semen?\n",
      "\u001b[94mreddit    \u001b[0mLeast vandalistic tag ever? Post-it bandit...\n",
      "\u001b[94mreddit    \u001b[0mDoes this count?\n",
      "\u001b[94mreddit    \u001b[0mGeez, I was happy to find this place, but they havent restocked the cookies in 3 years, so whats the point?\n",
      "\u001b[94mreddit    \u001b[0mAre there any cookies left?\n",
      "\u001b[94mreddit    \u001b[0mCan someone fix the header already?\n",
      "\u001b[94mreddit    \u001b[0mAnother leak, perhaps?\n",
      "\u001b[94mreddit    \u001b[0mHow did you find SecretSubreddit?\n"
     ]
    }
   ],
   "source": [
    "import pymysql\n",
    "from ques_db import ques_db, Table \n",
    "import time \n",
    "\n",
    "db = ques_db() \n",
    "    \n",
    "def get_table_size(db, table_name):\n",
    "    db.cursor.execute('SELECT count(*) FROM `' + table_name + '`;')\n",
    "    return db.cursor.fetchall()\n",
    "\n",
    "print(get_table_size(db, 'scrapes'))\n",
    "\n",
    "def get_unique_question_count(db, table_name):\n",
    "    db.cursor.execute('SELECT count(DISTINCT question) FROM `' + table_name + '`;')\n",
    "    return db.cursor.fetchall()\n",
    "\n",
    "print(get_unique_question_count(db, 'scrapes'))\n",
    "\n",
    "\n",
    "def get_recent_scrapes(db):\n",
    "    db.cursor.execute('''SELECT * FROM `scrapes` \n",
    "                     ORDER BY Timestamp DESC\n",
    "                     LIMIT 10 \n",
    "                      ''')\n",
    "    return db.cursor.fetchall()\n",
    "\n",
    "class bcolors:\n",
    "    HEADER = '\\033[95m'\n",
    "    OKBLUE = '\\033[94m'\n",
    "    OKCYAN = '\\033[96m'\n",
    "    OKGREEN = '\\033[92m'\n",
    "    WARNING = '\\033[93m'\n",
    "    FAIL = '\\033[91m'\n",
    "    ENDC = '\\033[0m'\n",
    "    BOLD = '\\033[1m'\n",
    "    UNDERLINE = '\\033[4m'\n",
    "    \n",
    "   \n",
    "rows = get_recent_scrapes(db)\n",
    "\n",
    "for row in rows: \n",
    "    print(str(bcolors.OKBLUE + '{:<10}'+ bcolors.ENDC + '{:>15}').format(row['website'], row['question']))\n",
    " \n",
    "\n"
   ]
  },
  {
   "cell_type": "code",
   "execution_count": 11,
   "metadata": {
    "ExecuteTime": {
     "end_time": "2020-10-20T02:58:15.546554Z",
     "start_time": "2020-10-20T02:56:29.437475Z"
    }
   },
   "outputs": [
    {
     "name": "stdout",
     "output_type": "stream",
     "text": [
      "[{'id': 33469, 'question': 'Are You Fucking Kidding Me Right Now?', 'website': 'reddit', 'topic': '2b2t', 'version': '0.0.0.0', 'timestamp': datetime.datetime(2020, 10, 19, 19, 56, 48)}, {'id': 33470, 'question': 'Cryptocurrency - is this the end game for fintech?', 'website': 'reddit', 'topic': 'cryptochat', 'version': '0.0.0.0', 'timestamp': datetime.datetime(2020, 10, 19, 19, 56, 48)}, {'id': 33471, 'question': 'Chinas ICO bans - what befalls the world of cryptocurrencies?', 'website': 'reddit', 'topic': 'cryptochat', 'version': '0.0.0.0', 'timestamp': datetime.datetime(2020, 10, 19, 19, 56, 48)}, {'id': 33472, 'question': 'Is the consensus still that cloud mining is a scam?', 'website': 'reddit', 'topic': 'cryptochat', 'version': '0.0.0.0', 'timestamp': datetime.datetime(2020, 10, 19, 19, 56, 48)}, {'id': 33473, 'question': 'Comment active est ce subreddit ?', 'website': 'reddit', 'topic': 'canada_fr', 'version': '0.0.0.0', 'timestamp': datetime.datetime(2020, 10, 19, 19, 56, 48)}, {'id': 33474, 'question': 'Anyone know how far the new water pipe is running on Lovett?', 'website': 'reddit', 'topic': 'CityofCentral', 'version': '0.0.0.0', 'timestamp': datetime.datetime(2020, 10, 19, 19, 56, 48)}, {'id': 33475, 'question': 'Dream house or nope house? • /r/pics', 'website': 'reddit', 'topic': 'IdeaInspire', 'version': '0.0.0.0', 'timestamp': datetime.datetime(2020, 10, 19, 19, 56, 48)}, {'id': 33461, 'question': 'Can we merge Accumulo and Hadoop back together?', 'website': 'reddit', 'topic': 'Accumulo', 'version': '0.0.0.0', 'timestamp': datetime.datetime(2020, 10, 19, 19, 55, 46)}, {'id': 33462, 'question': 'How did you learn to read and type?', 'website': 'reddit', 'topic': 'TalkToDolphins', 'version': '0.0.0.0', 'timestamp': datetime.datetime(2020, 10, 19, 19, 55, 46)}, {'id': 33463, 'question': 'Do you have a favorite flavor of water?', 'website': 'reddit', 'topic': 'TalkToDolphins', 'version': '0.0.0.0', 'timestamp': datetime.datetime(2020, 10, 19, 19, 55, 46)}]\n"
     ]
    },
    {
     "ename": "KeyboardInterrupt",
     "evalue": "",
     "output_type": "error",
     "traceback": [
      "\u001b[0;31m---------------------------------------------------------------------------\u001b[0m",
      "\u001b[0;31mKeyboardInterrupt\u001b[0m                         Traceback (most recent call last)",
      "\u001b[0;32m<ipython-input-11-25c10d6f8a48>\u001b[0m in \u001b[0;36m<module>\u001b[0;34m\u001b[0m\n\u001b[1;32m      7\u001b[0m         \u001b[0mtime\u001b[0m\u001b[0;34m.\u001b[0m\u001b[0msleep\u001b[0m\u001b[0;34m(\u001b[0m\u001b[0mwait_time\u001b[0m\u001b[0;34m)\u001b[0m\u001b[0;34m\u001b[0m\u001b[0;34m\u001b[0m\u001b[0m\n\u001b[1;32m      8\u001b[0m \u001b[0;34m\u001b[0m\u001b[0m\n\u001b[0;32m----> 9\u001b[0;31m \u001b[0mrun_periodically\u001b[0m\u001b[0;34m(\u001b[0m\u001b[0;36m60\u001b[0m\u001b[0;34m)\u001b[0m\u001b[0;34m\u001b[0m\u001b[0;34m\u001b[0m\u001b[0m\n\u001b[0m",
      "\u001b[0;32m<ipython-input-11-25c10d6f8a48>\u001b[0m in \u001b[0;36mrun_periodically\u001b[0;34m(wait_time)\u001b[0m\n\u001b[1;32m      5\u001b[0m         \u001b[0mclear_output\u001b[0m\u001b[0;34m(\u001b[0m\u001b[0mwait\u001b[0m\u001b[0;34m=\u001b[0m\u001b[0;32mTrue\u001b[0m\u001b[0;34m)\u001b[0m\u001b[0;34m\u001b[0m\u001b[0;34m\u001b[0m\u001b[0m\n\u001b[1;32m      6\u001b[0m         \u001b[0mprint\u001b[0m\u001b[0;34m(\u001b[0m\u001b[0mget_recent_scrapes\u001b[0m\u001b[0;34m(\u001b[0m\u001b[0;34m)\u001b[0m\u001b[0;34m)\u001b[0m\u001b[0;34m\u001b[0m\u001b[0;34m\u001b[0m\u001b[0m\n\u001b[0;32m----> 7\u001b[0;31m         \u001b[0mtime\u001b[0m\u001b[0;34m.\u001b[0m\u001b[0msleep\u001b[0m\u001b[0;34m(\u001b[0m\u001b[0mwait_time\u001b[0m\u001b[0;34m)\u001b[0m\u001b[0;34m\u001b[0m\u001b[0;34m\u001b[0m\u001b[0m\n\u001b[0m\u001b[1;32m      8\u001b[0m \u001b[0;34m\u001b[0m\u001b[0m\n\u001b[1;32m      9\u001b[0m \u001b[0mrun_periodically\u001b[0m\u001b[0;34m(\u001b[0m\u001b[0;36m60\u001b[0m\u001b[0;34m)\u001b[0m\u001b[0;34m\u001b[0m\u001b[0;34m\u001b[0m\u001b[0m\n",
      "\u001b[0;31mKeyboardInterrupt\u001b[0m: "
     ]
    }
   ],
   "source": [
    "from IPython.display import clear_output\n",
    "\n",
    "def run_periodically(wait_time):\n",
    "    while True: \n",
    "        clear_output(wait=True)\n",
    "        print(get_recent_scrapes())\n",
    "        time.sleep(wait_time)\n",
    "    \n",
    "run_periodically(60)"
   ]
  },
  {
   "cell_type": "code",
   "execution_count": null,
   "metadata": {},
   "outputs": [],
   "source": []
  }
 ],
 "metadata": {
  "kernelspec": {
   "display_name": "Python 3",
   "language": "python",
   "name": "python3"
  },
  "language_info": {
   "codemirror_mode": {
    "name": "ipython",
    "version": 3
   },
   "file_extension": ".py",
   "mimetype": "text/x-python",
   "name": "python",
   "nbconvert_exporter": "python",
   "pygments_lexer": "ipython3",
   "version": "3.7.3"
  }
 },
 "nbformat": 4,
 "nbformat_minor": 2
}
