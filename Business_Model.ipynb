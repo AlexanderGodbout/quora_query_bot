{
 "cells": [
  {
   "cell_type": "code",
   "execution_count": 18,
   "metadata": {
    "ExecuteTime": {
     "end_time": "2020-10-20T03:03:24.892817Z",
     "start_time": "2020-10-20T03:03:24.887217Z"
    }
   },
   "outputs": [],
   "source": []
  },
  {
   "cell_type": "markdown",
   "metadata": {},
   "source": [
    "# 1. Revenue "
   ]
  },
  {
   "cell_type": "code",
   "execution_count": null,
   "metadata": {},
   "outputs": [],
   "source": [
    "\n"
   ]
  },
  {
   "cell_type": "markdown",
   "metadata": {},
   "source": [
    "# 2. Cost"
   ]
  },
  {
   "cell_type": "code",
   "execution_count": 1,
   "metadata": {
    "ExecuteTime": {
     "end_time": "2020-10-06T15:13:29.701463Z",
     "start_time": "2020-10-06T15:13:29.692170Z"
    },
    "execution": {
     "iopub.execute_input": "2020-10-22T04:21:25.949695Z",
     "iopub.status.busy": "2020-10-22T04:21:25.949695Z",
     "iopub.status.idle": "2020-10-22T04:21:25.965328Z",
     "shell.execute_reply": "2020-10-22T04:21:25.965328Z"
    }
   },
   "outputs": [
    {
     "name": "stdout",
     "output_type": "stream",
     "text": [
      "10488640000.0\n"
     ]
    }
   ],
   "source": [
    "words_per_sentence = 20 \n",
    "character_per_word = 4 \n",
    "bytes_per_sentence = words_per_sentence * character_per_word \n",
    "bytes_per_sentence_metadata = 80\n",
    "\n",
    "reddit_requests_per_minute = 30 \n",
    "twitter_requests_per_minute = 900/15 \n",
    "youtube_requests_per_minute = 50000/(24*60)\n",
    " \n",
    "sentences_per_day = (60*24)*(reddit_requests_per_minute + twitter_requests_per_minute + youtube_requests_per_minute) \n",
    "memory_needed_per_day = sentences_per_day * (bytes_per_sentence + bytes_per_sentence_metadata) \n",
    "memory_needed_per_year = 365 * memory_needed_per_day\n",
    "\n",
    "print(memory_needed_per_year)\n"
   ]
  },
  {
   "cell_type": "markdown",
   "metadata": {
    "ExecuteTime": {
     "end_time": "2020-10-06T15:13:05.804235Z",
     "start_time": "2020-10-06T15:13:05.797496Z"
    }
   },
   "source": [
    "# 3. Profit\n",
    "\n",
    "\n",
    "\n"
   ]
  },
  {
   "cell_type": "code",
   "execution_count": null,
   "metadata": {},
   "outputs": [],
   "source": []
  },
  {
   "cell_type": "markdown",
   "metadata": {
    "ExecuteTime": {
     "end_time": "2020-10-06T15:12:32.345586Z",
     "start_time": "2020-10-06T15:12:32.337938Z"
    }
   },
   "source": [
    "# 4. All Estimates"
   ]
  },
  {
   "cell_type": "code",
   "execution_count": 2,
   "metadata": {
    "ExecuteTime": {
     "end_time": "2020-10-06T15:12:37.967432Z",
     "start_time": "2020-10-06T15:12:37.939865Z"
    },
    "execution": {
     "iopub.execute_input": "2020-10-22T04:21:25.980928Z",
     "iopub.status.busy": "2020-10-22T04:21:25.980928Z",
     "iopub.status.idle": "2020-10-22T04:21:25.996502Z",
     "shell.execute_reply": "2020-10-22T04:21:25.996502Z"
    }
   },
   "outputs": [],
   "source": [
    "comment_out = ''' \n",
    "for k,v in locals().items(): \n",
    "    if '__' not in k and 'pdb' not in k and not k[0] == '_' \\\n",
    "    and isinstance(v, (int, float)): \n",
    "        print('{:<30}{:>15}'.format(k, round(v)))\n",
    "        '''"
   ]
  },
  {
   "cell_type": "code",
   "execution_count": 3,
   "metadata": {
    "ExecuteTime": {
     "end_time": "2020-10-21T15:45:38.376824Z",
     "start_time": "2020-10-21T15:45:37.185429Z"
    },
    "execution": {
     "iopub.execute_input": "2020-10-22T04:21:26.012129Z",
     "iopub.status.busy": "2020-10-22T04:21:26.012129Z",
     "iopub.status.idle": "2020-10-22T04:21:27.150939Z",
     "shell.execute_reply": "2020-10-22T04:21:27.150939Z"
    }
   },
   "outputs": [
    {
     "name": "stdout",
     "output_type": "stream",
     "text": [
      "[{'count(*)': 58515}]\n",
      "[{'count(DISTINCT question)': 54568}]\n",
      "\u001b[94mreddit    \u001b[0mIs TTT2 dead on ps4?\n",
      "\u001b[94mreddit    \u001b[0mDo you like your favorite character(s) new design?\n",
      "\u001b[94mreddit    \u001b[0mWhat do I need to get on the Angry Porcupine Server?\n",
      "\u001b[94mreddit    \u001b[0m       near me?\n",
      "\u001b[94mreddit    \u001b[0mWhere do you go for your news on West Ham and football in general?\n",
      "\u001b[94mreddit    \u001b[0mDoes Benrahma start v City?\n",
      "\u001b[94mreddit    \u001b[0mAnyone else feeling like the entire world is totally beautiful today?\n",
      "\u001b[94mreddit    \u001b[0mCan you imagine having to swim to the butt? wow. Imagine that.\n",
      "\u001b[94mreddit    \u001b[0mCould you imagine such a big lollipop for a child? wow. Imagine that.\n",
      "\u001b[94mreddit    \u001b[0mSo who \"tanks\" secret/test aircraft?\n",
      "\u001b[94mreddit    \u001b[0mAre there Any Other Forums About Area51?\n",
      "\u001b[94mreddit    \u001b[0mWanna buy Medlin Ranch?\n",
      "\u001b[94mreddit    \u001b[0mWhat is clairvoyance?\n",
      "\u001b[94mreddit    \u001b[0mDo psychics get depressed?\n",
      "\u001b[94mreddit    \u001b[0mDo psychics get depression?\n",
      "\u001b[94mreddit    \u001b[0mDo psychics get depression?>\n",
      "\u001b[94mreddit    \u001b[0mIs a medium the same as a spiritualist?\n",
      "\u001b[94mreddit    \u001b[0mIs a spiritual reading the same as a clairvoyant reading?\n",
      "\u001b[94mreddit    \u001b[0mWhich method of clairvoyance is best?\n",
      "\u001b[94mreddit    \u001b[0mHow do you know if you are a good psychic or a crap one?\n",
      "\u001b[94mreddit    \u001b[0mWhen to call it a day?\n",
      "\u001b[94mreddit    \u001b[0mWho is the best clairvoyant?\n",
      "\u001b[94mreddit    \u001b[0mWhat if the information you are studying from, lets say your notes, is wrong on certain concepts?\n",
      "\u001b[94mreddit    \u001b[0mi add Maid Gabu to a irl bar, does she look legit?\n",
      "\u001b[94mreddit    \u001b[0mGreymoon? / Goldmoon?\n",
      "\u001b[94mreddit    \u001b[0mWTF Is Coming Out Friday? October 23rd\n",
      "\u001b[94mreddit    \u001b[0mDJ playing a set. Anyone know the track?\n",
      "\u001b[94mreddit    \u001b[0mWant To Start Rebels But Where Should I Begin? Also, What About Comics and Books?\n",
      "\u001b[94mreddit    \u001b[0mDoes it respond to commands in posts?\n",
      "\u001b[94mreddit    \u001b[0mHow To Pick The Good Bail Bonds Santee CA Agency?\n",
      "\u001b[94mreddit    \u001b[0mNeed Bail Bonds in San Antonio? I McRae Bail Bonds\n",
      "\u001b[94mreddit    \u001b[0mDetails of being a Surety Bondsman in Virginia?\n",
      "\u001b[94mreddit    \u001b[0m¿Es posible espiar las conversaciones de WhatsApp?\n",
      "\u001b[94mreddit    \u001b[0mLa NASA invierte en una impresora 3D que fabrica... ¿pizzas?\n",
      "\u001b[94mreddit    \u001b[0m¿Cómo será iOS 7? Jonahthan Ive mezclará el corazón de Apple con Windows Phone y Android\n",
      "\u001b[94mreddit    \u001b[0mAnyone elses creative mind move about a million miles a minute and theres nothing to do with it..?\n",
      "\u001b[94mreddit    \u001b[0m    Uhmm. What?\n",
      "\u001b[94mreddit    \u001b[0m    VISION WHY?\n",
      "\u001b[94mreddit    \u001b[0mWhy there is no \"open in app\" button on the Youtube website ?\n",
      "\u001b[94mreddit    \u001b[0mIs this what everyone else is getting?\n",
      "\u001b[94mreddit    \u001b[0m    Uncensored?\n",
      "\u001b[94mreddit    \u001b[0m  Still active?\n",
      "\u001b[94mreddit    \u001b[0m      Onlyfans?\n",
      "\u001b[94mreddit    \u001b[0mVid of her masturbating in a bathroom stall?\n",
      "\u001b[94mreddit    \u001b[0mWho Broke Congress? (with Rep. Justin Amash)\n",
      "\u001b[94mreddit    \u001b[0mIs Amash at least running for re-election as representative?\n",
      "\u001b[94mreddit    \u001b[0mHave any Republicans signed on to Justin Amashs qualified immunity bill? Do you think it has a chance?\n",
      "\u001b[94mreddit    \u001b[0mWith Daredevil coming soon to Netflix, what are some Daredevil stories I can start reading to get in the mood?\n",
      "\u001b[94mreddit    \u001b[0mSomething similar to Spiderman?\n",
      "\u001b[94mreddit    \u001b[0mWhats like Ms Marvel?\n",
      "\u001b[94mreddit    \u001b[0mI really liked DnAs run on Guardians of The Galaxy and Thanos Imperative? More sci-fi epics out there?\n",
      "\u001b[94mreddit    \u001b[0mI really enjoyed the art work of Alex Ross in Kingdom Come what are some other alex ross comics worth getting into?\n",
      "\u001b[94mreddit    \u001b[0mAnything like Life with Archie / Archie the Married Life?\n",
      "\u001b[94mreddit    \u001b[0mJust read New Avengers Vol 1, what else around that time and forward is good from Marvel?\n",
      "\u001b[94mreddit    \u001b[0mIm currently enjoying Hickmans Avengers/New Avengers. What are some similar Marvel titles that are NOT written by Hickman?\n",
      "\u001b[94mreddit    \u001b[0mI enjoyed MAtt wagners MAGE: The hero discovered, what else may I like?\n",
      "\u001b[94mreddit    \u001b[0mHows my projection?\n",
      "\u001b[94mreddit    \u001b[0mHow do I sound in this voice clip? My vocal range is kind of wide, though I wonder if I sound alright?\n",
      "\u001b[94mreddit    \u001b[0mAny opinions on my voice?\n",
      "\u001b[94mreddit    \u001b[0mDoes my voice sound feminine? Or too high?\n",
      "\u001b[94mreddit    \u001b[0mIs there any program that can make my voice laggy?\n",
      "\u001b[94mreddit    \u001b[0mtips on making my voice lower??\n",
      "\u001b[94mreddit    \u001b[0mNew to the Game, tips?\n",
      "\u001b[94mreddit    \u001b[0mSentylasong - Jeepers Creepers Freestyle (before recording hitting the Stu yall like it?))\n",
      "\u001b[94mreddit    \u001b[0mWhat about a castlevania game with Simon belmont?\n",
      "\u001b[94mreddit    \u001b[0mFirst post? Advice from my mother\n",
      "\u001b[94mreddit    \u001b[0mAnyone want to make a contained Chicago COVID film?\n",
      "\u001b[94mreddit    \u001b[0mAnyone looking for a production assistant?\n",
      "\u001b[94mreddit    \u001b[0mDoes anyone want to start something?\n",
      "\u001b[94mreddit    \u001b[0mand why you so free?!?\n",
      "\u001b[94mreddit    \u001b[0mI can normally play awoiaf 6 fine, but 7.0 is much more laggy than before. Not unplayable but I got stutters and fps constant 30-40. Anyone the same with 7.0?\n",
      "\u001b[94mreddit    \u001b[0mWhere is a good place to get stone?\n",
      "\u001b[94mreddit    \u001b[0mEnterprises Glitch?\n",
      "\u001b[94mreddit    \u001b[0mWeird texture bug, how do i fix it?\n",
      "\u001b[94mreddit    \u001b[0mRed Wedding not firing?\n",
      "\u001b[94mreddit    \u001b[0mWho can you Marry? (as a male)\n",
      "\u001b[94mreddit    \u001b[0mPeople/heritage bonus???\n",
      "\u001b[94mreddit    \u001b[0m[PROGRAM] Movement (Because I have no other name for it. What do you do in it? Well, just type in the code to find out! Btw the “not equal to sign” is represented by =/=\n",
      "\u001b[94mreddit    \u001b[0mWhat should the next program I submit be?\n",
      "\u001b[94mreddit    \u001b[0m        Games??\n",
      "\u001b[94mreddit    \u001b[0mFill algorithm?\n",
      "\u001b[94mreddit    \u001b[0m[META] Flair, please?\n",
      "\u001b[94mreddit    \u001b[0mWhich nonlegendary pokemon are you looking forward to returning in the crown tundra?\n",
      "\u001b[94mreddit    \u001b[0mWhat will the most wanted trade pokemon be after Crown Tundra release?\n",
      "\u001b[94mreddit    \u001b[0mWant to get back into comp from not being in it till like gen 6 , any discords?\n",
      "\u001b[94mreddit    \u001b[0mRate/help teambuild?\n",
      "\u001b[94mreddit    \u001b[0mAre nonlegit URL Pokémon from surprise trade safe to breed with?\n",
      "\u001b[94mreddit    \u001b[0mWho do you think will be performing at Wavefront this year?\n",
      "\u001b[94mreddit    \u001b[0mWhat book have you read had such a great philosophy, that it changed your outlook on life? Quotes are appreciated, but not necessary.\n",
      "\u001b[94mreddit    \u001b[0mWhat is Discord?\n",
      "\u001b[94mreddit    \u001b[0mSoo we’re going to the Autopsy club tonight huh? What’s happening there?\n",
      "\u001b[94mreddit    \u001b[0mWhats going on tonight?\n",
      "\u001b[94mreddit    \u001b[0mWhats a good venue in San Antonio to perform something like this record at ? Considering the performance be with a live band? Any musicians find this some they could vibe to ?\n",
      "\u001b[94mreddit    \u001b[0mr/JFK or r/RFK?\n",
      "\u001b[94mreddit    \u001b[0mWhat do you guys think of moving a guy like Preston Smith to 5-tech?\n",
      "\u001b[94mreddit    \u001b[0mLooking for r/nfl? Here you go\n",
      "\u001b[94mreddit    \u001b[0mMinecraft SMP w/ my cousin Diamondfinder163! Ep.1 DIAMONDS!?\n",
      "\u001b[94mreddit    \u001b[0mBramble Plays Minecraft SKYWARS: EP.1 \"SHE FELL OFF!?\"\n",
      "\u001b[94mreddit    \u001b[0mMaybe you guys will like this? I made it as a wallpaper for my phone. Let me know what you think!\n",
      "\u001b[94mreddit    \u001b[0mColorado Pins from 2016?\n"
     ]
    }
   ],
   "source": [
    "import pymysql\n",
    "from ques_db import ques_db, Table \n",
    "import time \n",
    "\n",
    "db = ques_db() \n",
    "    \n",
    "def get_table_size(db, table_name):\n",
    "    db.cursor.execute('SELECT count(*) FROM `' + table_name + '`;')\n",
    "    return db.cursor.fetchall()\n",
    "\n",
    "print(get_table_size(db, 'scrapes'))\n",
    "\n",
    "def get_unique_question_count(db, table_name):\n",
    "    db.cursor.execute('SELECT count(DISTINCT question) FROM `' + table_name + '`;')\n",
    "    return db.cursor.fetchall()\n",
    "\n",
    "print(get_unique_question_count(db, 'scrapes'))\n",
    "\n",
    "\n",
    "def get_recent_scrapes(db):\n",
    "    db.cursor.execute('''SELECT * FROM `scrapes` \n",
    "                     ORDER BY Timestamp DESC\n",
    "                     LIMIT 100 \n",
    "                      ''')\n",
    "    return db.cursor.fetchall()\n",
    "\n",
    "class bcolors:\n",
    "    HEADER = '\\033[95m'\n",
    "    OKBLUE = '\\033[94m'\n",
    "    OKCYAN = '\\033[96m'\n",
    "    OKGREEN = '\\033[92m'\n",
    "    WARNING = '\\033[93m'\n",
    "    FAIL = '\\033[91m'\n",
    "    ENDC = '\\033[0m'\n",
    "    BOLD = '\\033[1m'\n",
    "    UNDERLINE = '\\033[4m'\n",
    "    \n",
    "   \n",
    "rows = get_recent_scrapes(db)\n",
    "\n",
    "for row in rows: \n",
    "    print(str(bcolors.OKBLUE + '{:<10}'+ bcolors.ENDC + '{:>15}').format(row['website'], row['question']))\n",
    " \n",
    "\n"
   ]
  },
  {
   "cell_type": "code",
   "execution_count": 4,
   "metadata": {
    "ExecuteTime": {
     "end_time": "2020-10-21T21:23:09.804542Z",
     "start_time": "2020-10-21T21:23:09.746720Z"
    },
    "execution": {
     "iopub.execute_input": "2020-10-22T04:21:27.150939Z",
     "iopub.status.busy": "2020-10-22T04:21:27.150939Z",
     "iopub.status.idle": "2020-10-22T04:21:27.182105Z",
     "shell.execute_reply": "2020-10-22T04:21:27.182105Z"
    }
   },
   "outputs": [],
   "source": [
    "from IPython.display import clear_output\n",
    "\n",
    "def run_periodically(wait_time):\n",
    "    while True: \n",
    "        clear_output(wait=True)\n",
    "        print(get_recent_scrapes())\n",
    "        time.sleep(wait_time)\n"
   ]
  },
  {
   "cell_type": "code",
   "execution_count": null,
   "metadata": {},
   "outputs": [],
   "source": []
  }
 ],
 "metadata": {
  "kernelspec": {
   "display_name": "Python 3",
   "language": "python",
   "name": "python3"
  },
  "language_info": {
   "codemirror_mode": {
    "name": "ipython",
    "version": 3
   },
   "file_extension": ".py",
   "mimetype": "text/x-python",
   "name": "python",
   "nbconvert_exporter": "python",
   "pygments_lexer": "ipython3",
   "version": "3.7.3"
  }
 },
 "nbformat": 4,
 "nbformat_minor": 2
}
