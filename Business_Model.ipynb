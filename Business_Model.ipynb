{
 "cells": [
  {
   "cell_type": "code",
   "execution_count": 18,
   "metadata": {
    "ExecuteTime": {
     "end_time": "2020-10-20T03:03:24.892817Z",
     "start_time": "2020-10-20T03:03:24.887217Z"
    }
   },
   "outputs": [],
   "source": []
  },
  {
   "cell_type": "markdown",
   "metadata": {},
   "source": [
    "# 1. Revenue "
   ]
  },
  {
   "cell_type": "code",
   "execution_count": null,
   "metadata": {},
   "outputs": [],
   "source": [
    "\n"
   ]
  },
  {
   "cell_type": "markdown",
   "metadata": {},
   "source": [
    "# 2. Cost"
   ]
  },
  {
   "cell_type": "code",
   "execution_count": 1,
   "metadata": {
    "ExecuteTime": {
     "end_time": "2020-10-06T15:13:29.701463Z",
     "start_time": "2020-10-06T15:13:29.692170Z"
    }
   },
   "outputs": [
    {
     "name": "stdout",
     "output_type": "stream",
     "text": [
      "10488640000.0\n"
     ]
    }
   ],
   "source": [
    "words_per_sentence = 20 \n",
    "character_per_word = 4 \n",
    "bytes_per_sentence = words_per_sentence * character_per_word \n",
    "bytes_per_sentence_metadata = 80\n",
    "\n",
    "reddit_requests_per_minute = 30 \n",
    "twitter_requests_per_minute = 900/15 \n",
    "youtube_requests_per_minute = 50000/(24*60)\n",
    " \n",
    "sentences_per_day = (60*24)*(reddit_requests_per_minute + twitter_requests_per_minute + youtube_requests_per_minute) \n",
    "memory_needed_per_day = sentences_per_day * (bytes_per_sentence + bytes_per_sentence_metadata) \n",
    "memory_needed_per_year = 365 * memory_needed_per_day\n",
    "\n",
    "print(memory_needed_per_year)\n"
   ]
  },
  {
   "cell_type": "markdown",
   "metadata": {
    "ExecuteTime": {
     "end_time": "2020-10-06T15:13:05.804235Z",
     "start_time": "2020-10-06T15:13:05.797496Z"
    }
   },
   "source": [
    "# 3. Profit\n",
    "\n",
    "\n",
    "\n"
   ]
  },
  {
   "cell_type": "code",
   "execution_count": null,
   "metadata": {},
   "outputs": [],
   "source": []
  },
  {
   "cell_type": "markdown",
   "metadata": {
    "ExecuteTime": {
     "end_time": "2020-10-06T15:12:32.345586Z",
     "start_time": "2020-10-06T15:12:32.337938Z"
    }
   },
   "source": [
    "# 4. All Estimates"
   ]
  },
  {
   "cell_type": "code",
   "execution_count": 2,
   "metadata": {
    "ExecuteTime": {
     "end_time": "2020-10-06T15:12:37.967432Z",
     "start_time": "2020-10-06T15:12:37.939865Z"
    }
   },
   "outputs": [],
   "source": [
    "comment_out = ''' \n",
    "for k,v in locals().items(): \n",
    "    if '__' not in k and 'pdb' not in k and not k[0] == '_' \\\n",
    "    and isinstance(v, (int, float)): \n",
    "        print('{:<30}{:>15}'.format(k, round(v)))\n",
    "        '''"
   ]
  },
  {
   "cell_type": "code",
   "execution_count": 3,
   "metadata": {
    "ExecuteTime": {
     "end_time": "2020-10-21T15:45:38.376824Z",
     "start_time": "2020-10-21T15:45:37.185429Z"
    }
   },
   "outputs": [
    {
     "name": "stdout",
     "output_type": "stream",
     "text": [
      "[{'count(*)': 66266}]\n",
      "[{'count(DISTINCT question)': 61467}]\n",
      "\u001b[94mreddit    \u001b[0mOn way to Vegas Saturday, Anyone around with Bars ? I’ll be mobile but staying in summerlin ..?!?!\n",
      "\u001b[94mreddit    \u001b[0mVegas on Saturday , help me out with some xan bars pharma hulks n gg249s please ?! Pm me for sickle\n",
      "\u001b[94mreddit    \u001b[0mConfused about packing bags for Vegas Vacation ??\n",
      "\u001b[94mreddit    \u001b[0mGuess The Football Player From Their Transfers?\n",
      "\u001b[94mreddit    \u001b[0mTop Coronavirus Questions Answered | When will it END?\n",
      "\u001b[94mreddit    \u001b[0mAPRIL BOXYCHARM UNBOXING | Unboxing My April 2020 Base Box & Trying All the Products (worth the $?)\n",
      "\u001b[94mreddit    \u001b[0mPC QUARANTINE UPGRADE (Face Reveal?)\n",
      "\u001b[94mreddit    \u001b[0mWhy I Think Xbox Series X Might Have A Slight Edge Over PS5 At Launch?\n",
      "\u001b[94mreddit    \u001b[0mCREATURE LURKING IN THE OFFICE?! | Steelpipe\n",
      "\u001b[94mreddit    \u001b[0mIs this the subreddit for \"The Better India\" app?\n",
      "\u001b[94mreddit    \u001b[0mLets try to get Gabe Newell onto BroNYcon ? (no idea how, signatures, mass email, ... ?)\n",
      "\u001b[94mreddit    \u001b[0mWhat do you want this subreddit to be?\n",
      "\u001b[94mreddit    \u001b[0mWhy u do this? ;_;\n",
      "\u001b[94mreddit    \u001b[0mMy first edit wdyt?\n",
      "\u001b[94mreddit    \u001b[0mDEDI†CATORS (have people seen this shit?)\n",
      "\u001b[94mreddit    \u001b[0mi need any permission to put T3C logo on any of my own fragmovies? thank you!\n",
      "\u001b[94mreddit    \u001b[0m What happened?\n",
      "\u001b[94mreddit    \u001b[0mTree trouble? Heres how to find a local Certified Arborist!\n",
      "\u001b[94mreddit    \u001b[0mCan I save my Pauls Select Norway Spruce?\n",
      "\u001b[94mreddit    \u001b[0mprune this hackberry?\n",
      "\u001b[94mreddit    \u001b[0mYoung cherry tree in Northern California.Should I be worried or it will recover next spring?\n",
      "\u001b[94mreddit    \u001b[0mDoes anyone know the name of the music used at 11:37?\n",
      "\u001b[94mreddit    \u001b[0mHow to share your referrals? any suggestions?\n",
      "\u001b[94mreddit    \u001b[0mDo people really earn money in pluggle?\n",
      "\u001b[94mreddit    \u001b[0m/r/Philippines asks: Whos the rudest Filipino celebrity youve met?\n",
      "\u001b[94mreddit    \u001b[0mWhat are the stereotypes associated with some Philippine schools? A redditor asks.\n",
      "\u001b[94mreddit    \u001b[0m        Escrow?\n",
      "\u001b[94mreddit    \u001b[0mYou didnt think it was over did you?\n",
      "\u001b[94mreddit    \u001b[0mAnyone running a Woodsman/Nomad 2 combo?\n",
      "\u001b[94mreddit    \u001b[0mAnyone here have a foliage marauder?\n",
      "\u001b[94mreddit    \u001b[0mOpinions of the new 2015 version of the Duplex frame?\n",
      "\u001b[94mreddit    \u001b[0mWhat does Occupy Wall Street want? \n",
      "\u001b[94mreddit    \u001b[0mhow can i change the interface color?\n",
      "\u001b[94mreddit    \u001b[0mHow do you uninstall the cozy cloud desktop app?\n",
      "\u001b[94mreddit    \u001b[0mCan I upload entire folders?\n",
      "\u001b[94mreddit    \u001b[0mWould you mind terribly?\n",
      "\u001b[94mreddit    \u001b[0m    May I join?\n",
      "\u001b[94mreddit    \u001b[0mYou guys like tits?\n",
      "\u001b[94mreddit    \u001b[0m    Can I join?\n",
      "\u001b[94mreddit    \u001b[0manyone remember the \"to catch a predator\" rooms?\n",
      "\u001b[94mreddit    \u001b[0mWonder what happened to instasync? look no further\n",
      "\u001b[94mreddit    \u001b[0mBump While High?\n",
      "\u001b[94mreddit    \u001b[0mInstaynch seems to be permanently fucked, does anyone know an alternative?\n",
      "\u001b[94mreddit    \u001b[0m          Down?\n",
      "\u001b[94mreddit    \u001b[0mWheres the video of the old people porn where the nigga yells?\n",
      "\u001b[94mreddit    \u001b[0mHow can we get new users to come to instasynch?\n",
      "\u001b[94mreddit    \u001b[0mDrug Sniffing Dogs?\n",
      "\u001b[94mreddit    \u001b[0mPape to St. George Subway closure (how does this affect travel to Bestival?). Confused\n",
      "\u001b[94mreddit    \u001b[0mEntry and Reentry?\n",
      "\u001b[94mreddit    \u001b[0m      Security?\n",
      "\u001b[94mreddit    \u001b[0mWhat kind of bag can I bring?\n",
      "\u001b[94mreddit    \u001b[0m  afterparties?\n",
      "\u001b[94mreddit    \u001b[0mWCGW if I annoy this dangerous animal?\n",
      "\u001b[94mreddit    \u001b[0mWhere does a thought go?\n",
      "\u001b[94mreddit    \u001b[0mThought-Provoking | What if All That Flying Is Good for the Planet? (climate/environment)\n",
      "\u001b[94mreddit    \u001b[0mAnswering \"Who is to blame?\" type of question\n",
      "\u001b[94mreddit    \u001b[0mWhat‘s the obsession with black men?\n",
      "\u001b[94mreddit    \u001b[0mIf you nipped it in the bud, how long would it have been?\n",
      "\u001b[94mreddit    \u001b[0mRemember that time Clinton lied about a blow job and the Republicans wouldn’t shut up about it?\n",
      "\u001b[94mreddit    \u001b[0m“Your actions speak so loudly that I cannot hear what you are saying.” Something I would like to say to 99.9% of politicians. When does it end?\n",
      "\u001b[94mreddit    \u001b[0mLooking for boat tour for tonight, can you help?\n",
      "\u001b[94mreddit    \u001b[0mAsiaCoin - Any news? Anything happening?\n",
      "\u001b[94mreddit    \u001b[0mWhere to Spend your AsiaCoin?\n",
      "\u001b[94mreddit    \u001b[0mCan anyone make a banner for Reddit that we can all agree on so I can upload it to this subreddit?\n",
      "\u001b[94mreddit    \u001b[0mWait there’s more people in here rn?! Crazy! Also I miss her\n",
      "\u001b[94mreddit    \u001b[0m     Full homo?\n",
      "\u001b[94mreddit    \u001b[0mTRAINING THE KIMURA | AND \"WHAT IFs?\"\n",
      "\u001b[94mreddit    \u001b[0m Suggestions???\n",
      "\u001b[94mreddit    \u001b[0mi first noted the 20~25 year cycle back in the 90s, when was the first time you noticed?\n",
      "\u001b[94mreddit    \u001b[0mShovel Knight Specter Of Torment: Just Released / Should I buy? - Indie ...\n",
      "\u001b[94mreddit    \u001b[0mHi. Recently pulled out my old paper wallets to access Bitcoin Cash... am I able to do the same thing with bitGold? Thanks!\n",
      "\u001b[94mreddit    \u001b[0mRebranded to GoldMoney? LMAO.\n",
      "\u001b[94mreddit    \u001b[0mGold - Buy now or wait?\n",
      "\u001b[94mreddit    \u001b[0mWhat is the real usage cost?\n",
      "\u001b[94mreddit    \u001b[0mBitGold - worth it?\n",
      "\u001b[94mreddit    \u001b[0mHas anybody used the bigold mastercard?\n",
      "\u001b[94mreddit    \u001b[0m What happened?\n",
      "\u001b[94mreddit    \u001b[0mHow do I get gold?\n",
      "\u001b[94mreddit    \u001b[0mWhen will the US be able to send payments?\n",
      "\u001b[94mreddit    \u001b[0mHow long do applications for their affiliate program take to be accepted/denied?\n",
      "\u001b[94mreddit    \u001b[0mWho wants to give me my next facial?!\n",
      "\u001b[94mreddit    \u001b[0mWho thinks they can get it in our mouth?\n",
      "\u001b[94mreddit    \u001b[0mReady for more, perhaps ...?\n",
      "\u001b[94mreddit    \u001b[0mCan I still take courses after getting my degree?\n",
      "\u001b[94mreddit    \u001b[0mSeeking internships?\n",
      "\u001b[94mreddit    \u001b[0mSpring Classes?\n",
      "\u001b[94mreddit    \u001b[0myall excited for classes to start?\n",
      "\u001b[94mreddit    \u001b[0mPcc password randomly not working?\n",
      "\u001b[94mreddit    \u001b[0mShould i really get all the text books ?\n",
      "\u001b[94mreddit    \u001b[0mIs there a separate registration process for visiting students?\n",
      "\u001b[94mreddit    \u001b[0mDifference between CA, RC, and SY remote and Web classes?\n",
      "\u001b[94mreddit    \u001b[0mAnyone successfully gotten thru an unusual enrollment appeal or have any info?\n",
      "\u001b[94mreddit    \u001b[0mHonors Writing 121 vs regular WR121?\n",
      "\u001b[94mreddit    \u001b[0mINSANE HIP-FIRE PISTOL NUCLEAR! What is AAH Elite?\n",
      "\u001b[94mreddit    \u001b[0mLaide alimentaire pour les plus pauvres bientôt supprimée ?  - Politique sociale - Basta !\n",
      "\u001b[94mreddit    \u001b[0mLes multinationales veulent-elles se débarrasser de leurs actionnaires trop curieux ? - Responsabilité des entreprises ? - Basta !\n",
      "\u001b[94mreddit    \u001b[0mNotre-Dame-des-Landes : un préfet en plein conflit dintérêt ?\n",
      "\u001b[94mreddit    \u001b[0mThere are four users here right now? What on earth are you doing on r/storymantroy and how did you get here?\n",
      "\u001b[94mreddit    \u001b[0mIf Covid was end of the world, whats the most deprived thing youd do to me? Kik- usedsissy1995 or PM me and Ill make a custom for most impressive. If your into that.\n",
      "\u001b[94mreddit    \u001b[0mMy whole body... feels hot... Commander, can you stay with me for a bit? ~ Full Atago race queen set is up at Husbando tier this month, link in comments\n"
     ]
    }
   ],
   "source": [
    "import pymysql\n",
    "from ques_db import ques_db, Table \n",
    "import time \n",
    "\n",
    "db = ques_db() \n",
    "    \n",
    "def get_table_size(db, table_name):\n",
    "    db.cursor.execute('SELECT count(*) FROM `' + table_name + '`;')\n",
    "    return db.cursor.fetchall()\n",
    "\n",
    "print(get_table_size(db, 'scrapes'))\n",
    "\n",
    "def get_unique_question_count(db, table_name):\n",
    "    db.cursor.execute('SELECT count(DISTINCT question) FROM `' + table_name + '`;')\n",
    "    return db.cursor.fetchall()\n",
    "\n",
    "print(get_unique_question_count(db, 'scrapes'))\n",
    "\n",
    "\n",
    "def get_recent_scrapes(db):\n",
    "    db.cursor.execute('''SELECT * FROM `scrapes` \n",
    "                     ORDER BY Timestamp DESC\n",
    "                     LIMIT 100 \n",
    "                      ''')\n",
    "    return db.cursor.fetchall()\n",
    "\n",
    "class bcolors:\n",
    "    HEADER = '\\033[95m'\n",
    "    OKBLUE = '\\033[94m'\n",
    "    OKCYAN = '\\033[96m'\n",
    "    OKGREEN = '\\033[92m'\n",
    "    WARNING = '\\033[93m'\n",
    "    FAIL = '\\033[91m'\n",
    "    ENDC = '\\033[0m'\n",
    "    BOLD = '\\033[1m'\n",
    "    UNDERLINE = '\\033[4m'\n",
    "    \n",
    "   \n",
    "rows = get_recent_scrapes(db)\n",
    "\n",
    "for row in rows: \n",
    "    print(str(bcolors.OKBLUE + '{:<10}'+ bcolors.ENDC + '{:>15}').format(row['website'], row['question']))\n",
    " \n",
    "\n"
   ]
  },
  {
   "cell_type": "code",
   "execution_count": 4,
   "metadata": {
    "ExecuteTime": {
     "end_time": "2020-10-21T21:23:09.804542Z",
     "start_time": "2020-10-21T21:23:09.746720Z"
    }
   },
   "outputs": [],
   "source": [
    "from IPython.display import clear_output\n",
    "\n",
    "def run_periodically(wait_time):\n",
    "    while True: \n",
    "        clear_output(wait=True)\n",
    "        print(get_recent_scrapes())\n",
    "        time.sleep(wait_time)\n"
   ]
  },
  {
   "cell_type": "code",
   "execution_count": null,
   "metadata": {},
   "outputs": [],
   "source": []
  }
 ],
 "metadata": {
  "kernelspec": {
   "display_name": "Python 3",
   "language": "python",
   "name": "python3"
  },
  "language_info": {
   "codemirror_mode": {
    "name": "ipython",
    "version": 3
   },
   "file_extension": ".py",
   "mimetype": "text/x-python",
   "name": "python",
   "nbconvert_exporter": "python",
   "pygments_lexer": "ipython3",
   "version": "3.7.3"
  }
 },
 "nbformat": 4,
 "nbformat_minor": 2
}
