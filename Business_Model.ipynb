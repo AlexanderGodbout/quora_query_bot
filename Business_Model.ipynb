{
 "cells": [
  {
   "cell_type": "code",
   "execution_count": 18,
   "metadata": {
    "ExecuteTime": {
     "end_time": "2020-10-20T03:03:24.892817Z",
     "start_time": "2020-10-20T03:03:24.887217Z"
    }
   },
   "outputs": [],
   "source": []
  },
  {
   "cell_type": "markdown",
   "metadata": {},
   "source": [
    "# 1. Revenue "
   ]
  },
  {
   "cell_type": "code",
   "execution_count": null,
   "metadata": {},
   "outputs": [],
   "source": [
    "\n"
   ]
  },
  {
   "cell_type": "markdown",
   "metadata": {},
   "source": [
    "# 2. Cost"
   ]
  },
  {
   "cell_type": "code",
   "execution_count": 1,
   "metadata": {
    "ExecuteTime": {
     "end_time": "2020-10-06T15:13:29.701463Z",
     "start_time": "2020-10-06T15:13:29.692170Z"
    }
   },
   "outputs": [
    {
     "name": "stdout",
     "output_type": "stream",
     "text": [
      "10488640000.0\n"
     ]
    }
   ],
   "source": [
    "words_per_sentence = 20 \n",
    "character_per_word = 4 \n",
    "bytes_per_sentence = words_per_sentence * character_per_word \n",
    "bytes_per_sentence_metadata = 80\n",
    "\n",
    "reddit_requests_per_minute = 30 \n",
    "twitter_requests_per_minute = 900/15 \n",
    "youtube_requests_per_minute = 50000/(24*60)\n",
    " \n",
    "sentences_per_day = (60*24)*(reddit_requests_per_minute + twitter_requests_per_minute + youtube_requests_per_minute) \n",
    "memory_needed_per_day = sentences_per_day * (bytes_per_sentence + bytes_per_sentence_metadata) \n",
    "memory_needed_per_year = 365 * memory_needed_per_day\n",
    "\n",
    "print(memory_needed_per_year)\n"
   ]
  },
  {
   "cell_type": "markdown",
   "metadata": {
    "ExecuteTime": {
     "end_time": "2020-10-06T15:13:05.804235Z",
     "start_time": "2020-10-06T15:13:05.797496Z"
    }
   },
   "source": [
    "# 3. Profit\n",
    "\n",
    "\n",
    "\n"
   ]
  },
  {
   "cell_type": "code",
   "execution_count": null,
   "metadata": {},
   "outputs": [],
   "source": []
  },
  {
   "cell_type": "markdown",
   "metadata": {
    "ExecuteTime": {
     "end_time": "2020-10-06T15:12:32.345586Z",
     "start_time": "2020-10-06T15:12:32.337938Z"
    }
   },
   "source": [
    "# 4. All Estimates"
   ]
  },
  {
   "cell_type": "code",
   "execution_count": 2,
   "metadata": {
    "ExecuteTime": {
     "end_time": "2020-10-06T15:12:37.967432Z",
     "start_time": "2020-10-06T15:12:37.939865Z"
    }
   },
   "outputs": [],
   "source": [
    "comment_out = ''' \n",
    "for k,v in locals().items(): \n",
    "    if '__' not in k and 'pdb' not in k and not k[0] == '_' \\\n",
    "    and isinstance(v, (int, float)): \n",
    "        print('{:<30}{:>15}'.format(k, round(v)))\n",
    "        '''"
   ]
  },
  {
   "cell_type": "code",
   "execution_count": 3,
   "metadata": {
    "ExecuteTime": {
     "end_time": "2020-10-21T15:45:38.376824Z",
     "start_time": "2020-10-21T15:45:37.185429Z"
    }
   },
   "outputs": [
    {
     "name": "stdout",
     "output_type": "stream",
     "text": [
      "[{'count(*)': 58298}]\n",
      "[{'count(DISTINCT question)': 54369}]\n",
      "\u001b[94mreddit    \u001b[0mHey, would anybody mind checking out this game? Thanks!\n",
      "\u001b[94mreddit    \u001b[0mUpgrade from netcast to webos?\n",
      "\u001b[94mreddit    \u001b[0mdo we draw fags or not?\n",
      "\u001b[94mreddit    \u001b[0mSkeptical cat: \"You what?\"\n",
      "\u001b[94mreddit    \u001b[0m11 days no updates?\n",
      "\u001b[94mreddit    \u001b[0mwhat was the most shocking thing you heard the quiet kid say?\n",
      "\u001b[94mreddit    \u001b[0m\"the signal\" all gekeken?\n",
      "\u001b[94mreddit    \u001b[0mTreatment for endo after surgery?\n",
      "\u001b[94mreddit    \u001b[0mSo is this sub even active anymore?\n",
      "\u001b[94mreddit    \u001b[0mFollicular Phase BBT?\n",
      "\u001b[94mreddit    \u001b[0mFriends who are ttc?\n",
      "\u001b[94mreddit    \u001b[0mHow do I \"give it to God\" when I need to chart?\n",
      "\u001b[94mreddit    \u001b[0mAnyone try TempDrop?\n",
      "\u001b[94mreddit    \u001b[0mQuestionable conceiving advice?\n",
      "\u001b[94mreddit    \u001b[0mAny experience with anti-phospholipid syndrome (APS) or heparin/lovenox during pregnancy?\n",
      "\u001b[94mreddit    \u001b[0mHow to support my (currently childless) friends?\n",
      "\u001b[94mreddit    \u001b[0mAre you a college student with high school e-learning experiences?\n",
      "\u001b[94mreddit    \u001b[0mSibley hall internet access?\n",
      "\u001b[94mreddit    \u001b[0mTired Studying?\n",
      "\u001b[94mreddit    \u001b[0mI have been accepted in Confederation College Film Production program. how is it? experienced people please share your experience\n",
      "\u001b[94mreddit    \u001b[0mDifficulties paying back OSAP?\n",
      "\u001b[94mreddit    \u001b[0m@LionsbridgeFC: @USLLeagueTwo Can confirm. He’s fantastic. Remember this? https://t.co/moh6r7QDFn\n",
      "\u001b[94mreddit    \u001b[0mAny good transformation stories from darkness retreats?\n",
      "\u001b[94mreddit    \u001b[0mDarkness retreat in USA?\n",
      "\u001b[94mreddit    \u001b[0mWhat is your favorite darkroom retreat?\n",
      "\u001b[94mreddit    \u001b[0mDMT ‘Hallucinations’ or Expansion of the Spectrum?\n",
      "\u001b[94mreddit    \u001b[0mIn an upside down world, how do you deal with a male coworker who is everyones favourite but actually a devil playing politics?\n",
      "\u001b[94mreddit    \u001b[0mWho touches it, really?\n",
      "\u001b[94mreddit    \u001b[0mSo is this Subreddit dead? :(\n",
      "\u001b[94mreddit    \u001b[0mBest keylogger for Mac?\n",
      "\u001b[94mreddit    \u001b[0mI want to download a keylogger. Help me out?\n",
      "\u001b[94mreddit    \u001b[0mWhy is this subreddit empty? Am I violating some reddit rule by posting here?\n",
      "\u001b[94mreddit    \u001b[0mHelp me identify this SVT-40? Inherited from my late father, family member interested in buying it, would like to know exactly what it is/worth.\n",
      "\u001b[94mreddit    \u001b[0mAnyone know where to buy SOVIET svt mags in Canada?\n",
      "\u001b[94mreddit    \u001b[0mWhere in Canada can you buy the gas adjustment tool?\n",
      "\u001b[94mreddit    \u001b[0mDoes anyone read this?\n",
      "\u001b[94mreddit    \u001b[0mAnyone know where I can find SVT blueprints?\n",
      "\u001b[94mreddit    \u001b[0mAnyone hearing rumors for 2020 LineUp?\n",
      "\u001b[94mreddit    \u001b[0m  Video Stream?\n",
      "\u001b[94mreddit    \u001b[0mUpdates on security?\n",
      "\u001b[94mreddit    \u001b[0mCan you sleep in your car with a parking pass?\n",
      "\u001b[94mreddit    \u001b[0mCheap campgrounds near bethel?\n",
      "\u001b[94mreddit    \u001b[0mPhil Lesh and Friends! Who will the friends be? Will he pick from the other bands at the festival to start a supergroup for the night?\n",
      "\u001b[94mreddit    \u001b[0mWill the PS110 support 750hz displays?\n",
      "\u001b[94mreddit    \u001b[0mPro 2A Tactical - Good or Bad?\n",
      "\u001b[94mreddit    \u001b[0mScope mount with rails for an old rifle? (Haenel 312)\n",
      "\u001b[94mreddit    \u001b[0mBest iron sight options for sig p365 xl?\n",
      "\u001b[94mreddit    \u001b[0mDoes anyone have any recommendations for a safe?\n",
      "\u001b[94mreddit    \u001b[0mWhats the hype about G10 Grips??\n",
      "\u001b[94mreddit    \u001b[0mCheap and fun targets? Walmart brand 12 pack of soda!\n",
      "\u001b[94mreddit    \u001b[0mWhat Do You Guys Think?\n",
      "\u001b[94mreddit    \u001b[0mWhat Age Did You Buy Your First Gun?\n",
      "\u001b[94mreddit    \u001b[0mYildiz TK-12 - Slugs okay?\n",
      "\u001b[94mreddit    \u001b[0mShe’s making Music Now? I hope she Sings, & doesn’t Rap. She probably has a beautiful voice.....\n",
      "\u001b[94mreddit    \u001b[0mis there any pornstar similar to her ?\n",
      "\u001b[94mreddit    \u001b[0mWhats more annoying on this sub?\n",
      "\u001b[94mreddit    \u001b[0mCock and ball torture?\n",
      "\u001b[94mreddit    \u001b[0mWhats your preference?\n",
      "\u001b[94mreddit    \u001b[0mWhats the price of a mile?\n",
      "\u001b[94mreddit    \u001b[0mWould you the what the are the when???\n",
      "\u001b[94mreddit    \u001b[0m           yes?\n",
      "\u001b[94mreddit    \u001b[0mWould you rather?\n",
      "\u001b[94mreddit    \u001b[0mWould you rather?????\n",
      "\u001b[94mreddit    \u001b[0mWould you rather?\n",
      "\u001b[94mreddit    \u001b[0mDoes anyone own discord?\n",
      "\u001b[94mreddit    \u001b[0mAnyone out there in production with Shop Floor Connect?\n",
      "\u001b[94mreddit    \u001b[0mGot a zip tie? Fold it backwards so it doesnt lock and you have an adjustable Joint/Roach clip.\n",
      "\u001b[94mreddit    \u001b[0mwhat happens if you remove the base os?\n",
      "\u001b[94mreddit    \u001b[0mIs it possible to run bedrock with solus?\n",
      "\u001b[94mreddit    \u001b[0mEnabling services across strata?\n",
      "\u001b[94mreddit    \u001b[0mHow to add stratum from an .iso?\n",
      "\u001b[94mreddit    \u001b[0mHow to use pacman as pkg manager in void linux ?\n",
      "\u001b[94mreddit    \u001b[0mHow do I remove Bedrock Linux?\n",
      "\u001b[94mreddit    \u001b[0mAny pictures of your WorkPlace? Any stories about something interesting at Work? Post it here!\n",
      "\u001b[94mreddit    \u001b[0mSo where does everyone work?\n",
      "\u001b[94mreddit    \u001b[0mNot thinking straight, will someone please read my paper outline and help me clear my thoughts?\n",
      "\u001b[94mreddit    \u001b[0m\"how many actual chromosomes do you have in your head, Opus?\"\n",
      "\u001b[94mreddit    \u001b[0m\"lol joe you missed a golden opportunity, Stephen Hawking died... hahaha minus one eve pod right?\"\n",
      "\u001b[94mreddit    \u001b[0m\"wait, if they collapse, who will HK have to fight? ... wait, who is the dagger\"?\n",
      "\u001b[94mreddit    \u001b[0mBest factions server???\n",
      "\u001b[94mreddit    \u001b[0mBAD IDEA - The Emoji Movie - Worst film ever??\n",
      "\u001b[94mreddit    \u001b[0mDo women love beards or hate beards?\n",
      "\u001b[94mreddit    \u001b[0mLara Logan: Why Does Antifa Hate Andy Ngo?\n",
      "\u001b[94mreddit    \u001b[0mRemind you of a certain group?\n",
      "\u001b[94mreddit    \u001b[0mHow fast are current programs computationally verifying the Collatz conjecture?\n",
      "\u001b[94mreddit    \u001b[0mHow far has Collatz conjecture been computationally verified?\n",
      "\u001b[94mreddit    \u001b[0mWhy is this not a proof of the Collatz conjecture?\n",
      "\u001b[94mreddit    \u001b[0mIs there anybody here?\n",
      "\u001b[94mreddit    \u001b[0mSo.. anyone able to set up an OmniFob?\n",
      "\u001b[94mreddit    \u001b[0mWhat the fuck, this isnt Stars of the Lid?\n",
      "\u001b[94mreddit    \u001b[0mWhat does SoTL Mean to You?\n",
      "\u001b[94mreddit    \u001b[0mIMMW: How much time have I spent on reddit?\n",
      "\u001b[94mreddit    \u001b[0mAccess to mental health services?\n",
      "\u001b[94mreddit    \u001b[0mDo you want to be heard by an empathetic listener? Join our voice bot beta test: bit.ly/talktobitbybit\n",
      "\u001b[94mreddit    \u001b[0mYour experience in mental hospital?\n",
      "\u001b[94mreddit    \u001b[0mWHATS IN YOUR MOUTH CHALLENGE!?!? (GONE DiRtY)\n",
      "\u001b[94mreddit    \u001b[0mCould Psychedelic Drugs Help smokers quit? BBC\n",
      "\u001b[94mreddit    \u001b[0mWheaton il? Im a guitarist/vocalist looking for a bassist and a drummer\n",
      "\u001b[94mreddit    \u001b[0mDid my African Dwarf Frogs lay eggs/tadpole sacks?\n",
      "\u001b[94mreddit    \u001b[0mWhy didnt Kylo know where to find Luke?\n"
     ]
    }
   ],
   "source": [
    "import pymysql\n",
    "from ques_db import ques_db, Table \n",
    "import time \n",
    "\n",
    "db = ques_db() \n",
    "    \n",
    "def get_table_size(db, table_name):\n",
    "    db.cursor.execute('SELECT count(*) FROM `' + table_name + '`;')\n",
    "    return db.cursor.fetchall()\n",
    "\n",
    "print(get_table_size(db, 'scrapes'))\n",
    "\n",
    "def get_unique_question_count(db, table_name):\n",
    "    db.cursor.execute('SELECT count(DISTINCT question) FROM `' + table_name + '`;')\n",
    "    return db.cursor.fetchall()\n",
    "\n",
    "print(get_unique_question_count(db, 'scrapes'))\n",
    "\n",
    "\n",
    "def get_recent_scrapes(db):\n",
    "    db.cursor.execute('''SELECT * FROM `scrapes` \n",
    "                     ORDER BY Timestamp DESC\n",
    "                     LIMIT 100 \n",
    "                      ''')\n",
    "    return db.cursor.fetchall()\n",
    "\n",
    "class bcolors:\n",
    "    HEADER = '\\033[95m'\n",
    "    OKBLUE = '\\033[94m'\n",
    "    OKCYAN = '\\033[96m'\n",
    "    OKGREEN = '\\033[92m'\n",
    "    WARNING = '\\033[93m'\n",
    "    FAIL = '\\033[91m'\n",
    "    ENDC = '\\033[0m'\n",
    "    BOLD = '\\033[1m'\n",
    "    UNDERLINE = '\\033[4m'\n",
    "    \n",
    "   \n",
    "rows = get_recent_scrapes(db)\n",
    "\n",
    "for row in rows: \n",
    "    print(str(bcolors.OKBLUE + '{:<10}'+ bcolors.ENDC + '{:>15}').format(row['website'], row['question']))\n",
    " \n",
    "\n"
   ]
  },
  {
   "cell_type": "code",
   "execution_count": 4,
   "metadata": {
    "ExecuteTime": {
     "end_time": "2020-10-21T21:23:09.804542Z",
     "start_time": "2020-10-21T21:23:09.746720Z"
    }
   },
   "outputs": [],
   "source": [
    "from IPython.display import clear_output\n",
    "\n",
    "def run_periodically(wait_time):\n",
    "    while True: \n",
    "        clear_output(wait=True)\n",
    "        print(get_recent_scrapes())\n",
    "        time.sleep(wait_time)\n"
   ]
  },
  {
   "cell_type": "code",
   "execution_count": null,
   "metadata": {},
   "outputs": [],
   "source": []
  }
 ],
 "metadata": {
  "kernelspec": {
   "display_name": "Python 3",
   "language": "python",
   "name": "python3"
  },
  "language_info": {
   "codemirror_mode": {
    "name": "ipython",
    "version": 3
   },
   "file_extension": ".py",
   "mimetype": "text/x-python",
   "name": "python",
   "nbconvert_exporter": "python",
   "pygments_lexer": "ipython3",
   "version": "3.7.3"
  }
 },
 "nbformat": 4,
 "nbformat_minor": 2
}
