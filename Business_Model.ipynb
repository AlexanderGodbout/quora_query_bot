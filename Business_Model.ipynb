{
 "cells": [
  {
   "cell_type": "code",
   "execution_count": 18,
   "metadata": {
    "ExecuteTime": {
     "end_time": "2020-10-20T03:03:24.892817Z",
     "start_time": "2020-10-20T03:03:24.887217Z"
    }
   },
   "outputs": [],
   "source": []
  },
  {
   "cell_type": "markdown",
   "metadata": {},
   "source": [
    "# 1. Revenue "
   ]
  },
  {
   "cell_type": "code",
   "execution_count": null,
   "metadata": {},
   "outputs": [],
   "source": [
    "\n"
   ]
  },
  {
   "cell_type": "markdown",
   "metadata": {},
   "source": [
    "# 2. Cost"
   ]
  },
  {
   "cell_type": "code",
   "execution_count": 1,
   "metadata": {
    "ExecuteTime": {
     "end_time": "2020-10-06T15:13:29.701463Z",
     "start_time": "2020-10-06T15:13:29.692170Z"
    }
   },
   "outputs": [
    {
     "name": "stdout",
     "output_type": "stream",
     "text": [
      "10488640000.0\n"
     ]
    }
   ],
   "source": [
    "words_per_sentence = 20 \n",
    "character_per_word = 4 \n",
    "bytes_per_sentence = words_per_sentence * character_per_word \n",
    "bytes_per_sentence_metadata = 80\n",
    "\n",
    "reddit_requests_per_minute = 30 \n",
    "twitter_requests_per_minute = 900/15 \n",
    "youtube_requests_per_minute = 50000/(24*60)\n",
    " \n",
    "sentences_per_day = (60*24)*(reddit_requests_per_minute + twitter_requests_per_minute + youtube_requests_per_minute) \n",
    "memory_needed_per_day = sentences_per_day * (bytes_per_sentence + bytes_per_sentence_metadata) \n",
    "memory_needed_per_year = 365 * memory_needed_per_day\n",
    "\n",
    "print(memory_needed_per_year)\n"
   ]
  },
  {
   "cell_type": "markdown",
   "metadata": {
    "ExecuteTime": {
     "end_time": "2020-10-06T15:13:05.804235Z",
     "start_time": "2020-10-06T15:13:05.797496Z"
    }
   },
   "source": [
    "# 3. Profit\n",
    "\n",
    "\n",
    "\n"
   ]
  },
  {
   "cell_type": "code",
   "execution_count": null,
   "metadata": {},
   "outputs": [],
   "source": []
  },
  {
   "cell_type": "markdown",
   "metadata": {
    "ExecuteTime": {
     "end_time": "2020-10-06T15:12:32.345586Z",
     "start_time": "2020-10-06T15:12:32.337938Z"
    }
   },
   "source": [
    "# 4. All Estimates"
   ]
  },
  {
   "cell_type": "code",
   "execution_count": 2,
   "metadata": {
    "ExecuteTime": {
     "end_time": "2020-10-06T15:12:37.967432Z",
     "start_time": "2020-10-06T15:12:37.939865Z"
    }
   },
   "outputs": [],
   "source": [
    "comment_out = ''' \n",
    "for k,v in locals().items(): \n",
    "    if '__' not in k and 'pdb' not in k and not k[0] == '_' \\\n",
    "    and isinstance(v, (int, float)): \n",
    "        print('{:<30}{:>15}'.format(k, round(v)))\n",
    "        '''"
   ]
  },
  {
   "cell_type": "code",
   "execution_count": 3,
   "metadata": {
    "ExecuteTime": {
     "end_time": "2020-10-21T15:45:38.376824Z",
     "start_time": "2020-10-21T15:45:37.185429Z"
    }
   },
   "outputs": [
    {
     "name": "stdout",
     "output_type": "stream",
     "text": [
      "[{'count(*)': 65737}]\n",
      "[{'count(DISTINCT question)': 60995}]\n",
      "\u001b[94mreddit    \u001b[0mQué significa ningo?\n",
      "\u001b[94mreddit    \u001b[0mOpiniones sobre el curso de guaraní en Duolingo?\n",
      "\u001b[94mreddit    \u001b[0mAlguna persona que habla el guaraní puede decirme estas palabras tienen algún sentido en su idioma?\n",
      "\u001b[94mreddit    \u001b[0mWhy \"todo ya\" in Paraguayan Spanish?\n",
      "\u001b[94mreddit    \u001b[0mAlguna Persona que habla el guarani puede me dicer se estas palabras hacen algun sentido en su idioma?\n",
      "\u001b[94mreddit    \u001b[0mAlguien que habla guaraní acá.?\n",
      "\u001b[94mreddit    \u001b[0mHello :) I bought this print in Argentina for my sister back in the UK, and Im trying to translate what it means... I think the first word means \"freedom\", though I could be wrong. Any help?\n",
      "\u001b[94mreddit    \u001b[0mGuarani Duolingo course to teach Jopara. Thoughts?\n",
      "\u001b[94mreddit    \u001b[0mLooking for a partner on the battlefield?\n",
      "\u001b[94mreddit    \u001b[0mAnyone remember Upop?\n",
      "\u001b[94mreddit    \u001b[0mDoes Anyone Know What They Are Building In Front Of Target & Home Depot?\n",
      "\u001b[94mreddit    \u001b[0mAttorneys specializing in representing home owners against HOA regarding passive-aggressive common area landscaping conflict? [Serious]\n",
      "\u001b[94mreddit    \u001b[0mWhats it like being suburban?\n",
      "\u001b[94mreddit    \u001b[0mCAN I RECOMMEND THIS AS THE FIRST LINK IN THE SIDEBAR?\n",
      "\u001b[94mreddit    \u001b[0mWhat are the turks doing in Afrin?\n",
      "\u001b[94mreddit    \u001b[0mLooking for hidden wiring suggestions to get light strip underneath single cabinet on left hand side of sink. There is a plug in behind the microwave and will be using that as main power source. Will be buying govee (sp?) brand\n",
      "\u001b[94mreddit    \u001b[0mHow do I fix an LED strip thats burnt at the socket?\n",
      "\u001b[94mreddit    \u001b[0mWhat do I do about that is there a way to fix it?\n",
      "\u001b[94mreddit    \u001b[0mDoes anyone know if I can cut one led out from the end of the strip and then wire it somewhere in the middle of the LEDs so it lights up with the rest, like imagine a line of strips but then with 1 led coming up?\n",
      "\u001b[94mreddit    \u001b[0mWhat is The Best and powerful Security Solar flood lights? Here The article you may know more about this. Some days ago i have collected this blog from a search engine, which is very very helpful to me. Also, it becomes a help to you too. Thank You\n",
      "\u001b[94mreddit    \u001b[0mOne of the wires broke off howbdo I fixed my lights work again?\n",
      "\u001b[94mreddit    \u001b[0mWhat is The best LED Solar Flood Lights?\n",
      "\u001b[94mreddit    \u001b[0mWhat are the disadvantages of LEDs?\n",
      "\u001b[94mreddit    \u001b[0mBrand new light strip and these aren’t working right. Can anyone help?\n",
      "\u001b[94mreddit    \u001b[0mHi! I am trying to light 90 strips of LEDs w/ 5-10 LEDs in each strip. Ik i can connect all of them with wires, but i need the ends of each strip to be wireless. Any way that the LEDs will work based on either pic drew? I know i will need more parts, & if\n",
      "\u001b[94mreddit    \u001b[0mAnybody know where I can get LED’s like Ninja’s setup? Never watched him but those look really sleek\n",
      "\u001b[94mreddit    \u001b[0mIs it possible to get 25ft of color changing LED strip from one controller and one remote?\n",
      "\u001b[94mreddit    \u001b[0mHELP My LED light strip controller is screwed up. The colours are all jumbled up. When I press the power button, it turns green and when I press the red button, it shows me green. Does anyone else have the same issue?\n",
      "\u001b[94mreddit    \u001b[0mHey BOTES fanatics, who cant appreciate all of these great BOTES?\n",
      "\u001b[94mreddit    \u001b[0mFerdie the goat gets new legs! - have an animal in need of a prosthetic? were now casting for season 2 of Wizard of Paws, receive a free prosthetic, email us at bionicpetscasting@gmail.com\n",
      "\u001b[94mreddit    \u001b[0mA little too much \"grass\"?\n",
      "\u001b[94mreddit    \u001b[0mWhen talking about Cerberus, the 3 headed dog guarding hell, should you use plural or singular? Like I will pet the dog/dogs?\n",
      "\u001b[94mreddit    \u001b[0mIs a transgender’s penis considered beyond meat?\n",
      "\u001b[94mreddit    \u001b[0mDo hunting dogs go deaf?\n",
      "\u001b[94mreddit    \u001b[0mStar Trek has replicators aboard the enterprise, what were they constantly re-supplying at star bases?\n",
      "\u001b[94mreddit    \u001b[0mWhat if time travel was possible and someone tried to kill Hitler in 1938, but they didnt think about moving in space, as well as time, thus ending up in empty space? The frozen bodies of dozens of uneducated time travelers might be floating around in the\n",
      "\u001b[94mreddit    \u001b[0m    Are they???\n",
      "\u001b[94mreddit    \u001b[0mIf a cat becomes a vampire, does it need blood, or does it attack cows uters instead?\n",
      "\u001b[94mreddit    \u001b[0mHamilton PS1 group purchase? (see comments)\n",
      "\u001b[94mreddit    \u001b[0mIs this legit product or fake ?\n",
      "\u001b[94mreddit    \u001b[0mWhich is the better E-Rig in 2020?\n",
      "\u001b[94mreddit    \u001b[0mentry level portable dab rig 2020?\n",
      "\u001b[94mreddit    \u001b[0mCan I vape thc oil with a kangetech subvod?\n",
      "\u001b[94mreddit    \u001b[0mSo I bought this and I know its fake (used it before I knew it was fake). Is it safe? It felt good but had decent psychedelic affects, which I never had before.\n",
      "\u001b[94mreddit    \u001b[0mNoob here. Ive got a cuboid lite that I use for carts and was wondering if I can use it for dabs on the go?\n",
      "\u001b[94mreddit    \u001b[0mDoes this count as Portable Dabs?\n",
      "\u001b[94mreddit    \u001b[0mAnyone want a copy of 1989s Populous?\n",
      "\u001b[94mreddit    \u001b[0mThis is looking goood, will probably be scannable soon right?\n",
      "\u001b[94mreddit    \u001b[0mdoes the music match the battle?\n",
      "\u001b[94mreddit    \u001b[0mGohan super saiyan mind fuck?\n",
      "\u001b[94mreddit    \u001b[0mWho doesnt love Piccolo?\n",
      "\u001b[94mreddit    \u001b[0mShould Moto G Root go private? Say your pick in comments.\n",
      "\u001b[94mreddit    \u001b[0mPixel Art- Is this the Moon or cheese?\n",
      "\u001b[94mreddit    \u001b[0mWeek 1 log Well, things are going ok, I think?\n",
      "\u001b[94mreddit    \u001b[0mI’ve been away from my piano practice for more than three years and I’m trying to start again. I was playing mostly classical. Any advice?\n",
      "\u001b[94mreddit    \u001b[0mWe discussed body language & expression at the piano! Do you prefer more or less body movement during a performance?\n",
      "\u001b[94mreddit    \u001b[0mBubzvlogz - YEAH?\n",
      "\u001b[94mreddit    \u001b[0mBubzvlogz - Was It Worth It?\n",
      "\u001b[94mreddit    \u001b[0mIs this a good Croc Skink enclosure?\n",
      "\u001b[94mreddit    \u001b[0mHumidity won’t go past 70. Advice?\n",
      "\u001b[94mreddit    \u001b[0mCan you cohab toads and croc skinks?\n",
      "\u001b[94mreddit    \u001b[0mTo UVB, or not to UVB?\n",
      "\u001b[94mreddit    \u001b[0mKaraoke or jam nights?\n",
      "\u001b[94mreddit    \u001b[0mAny good bars in town?\n",
      "\u001b[94mreddit    \u001b[0mWait... is this small town Maysville, Kentucky?\n",
      "\u001b[94mreddit    \u001b[0mReddit meet-up this year?\n",
      "\u001b[94mreddit    \u001b[0mSo everyone was asking for Raven i remember... Why ?\n",
      "\u001b[94mreddit    \u001b[0mDoes anybody know how to fix this No Ads (Try Later) issue?\n",
      "\u001b[94mreddit    \u001b[0mDo you experience problem right now, anyone!?\n",
      "\u001b[94mreddit    \u001b[0mNo more reload?\n",
      "\u001b[94mreddit    \u001b[0mWhat do you think about these gloves?\n",
      "\u001b[94mreddit    \u001b[0m    Multikills?\n",
      "\u001b[94mreddit    \u001b[0mWhich one is better?\n",
      "\u001b[94mreddit    \u001b[0mWhat is special about Demonic Channelers?\n",
      "\u001b[94mreddit    \u001b[0mHow many shots are fired per second at normal fire rate?\n",
      "\u001b[94mreddit    \u001b[0mWill deathstate ever make it to Nintendo switch?\n",
      "\u001b[94mreddit    \u001b[0mEndless mode drops. Any advice on how to get them all?\n",
      "\u001b[94mreddit    \u001b[0mDoes the dark realms have a boss?\n",
      "\u001b[94mreddit    \u001b[0mThe Octillion vs King In Yellow, Complete Edition - The Octillion is just better, right?\n",
      "\u001b[94mreddit    \u001b[0mIs it just me or is the final set of levels (save the boss) the easiest?\n",
      "\u001b[94mreddit    \u001b[0mIs the game not releasing on eu?\n",
      "\u001b[94mreddit    \u001b[0mThe Masters Seal has been broken?\n",
      "\u001b[94mreddit    \u001b[0mOptic Staff vs The Golden Triblade?\n",
      "\u001b[94mreddit    \u001b[0mWhat is is the Dark Realm?\n",
      "\u001b[94mreddit    \u001b[0mCrobatman Part 5: The End?\n",
      "\u001b[94mreddit    \u001b[0mIS Nicki Minaj signing with Diddy the end of her career?\n",
      "\u001b[94mreddit    \u001b[0m Am I Gregnant?\n",
      "\u001b[94mreddit    \u001b[0mwait why do we hate r/circlebroke2 again?\n",
      "\u001b[94mreddit    \u001b[0mWhere to find the good deals on Charter Spectrum Internet Plans?\n",
      "\u001b[94mreddit    \u001b[0mWhy is this sub actually a thing? I searched up \"Panzer Vore!\" playing around with the phrase \"Panzer Vor!\" and I find this? Good Lord!\n",
      "\u001b[94mreddit    \u001b[0mHave you heard the tragedy of Yukiukite Senshadou? Its not a story that r/GuP would tell you.\n",
      "\u001b[94mreddit    \u001b[0mTheres an upside-down tiger floating above me isnt there?\n",
      "\u001b[94mreddit    \u001b[0mAre you afraid that your crypto investments might get stolen or hacked from an exchange like Poloniex or Bittrex? Look no further than the Ledger Nano S, a cryptocurrency hardware wallet with robust safety features for storing cryptographic assets and sec\n",
      "\u001b[94mreddit    \u001b[0mBitcoin ALERTS?\n",
      "\u001b[94mreddit    \u001b[0mIs it worth buying more bitcoin when you have the available funds like a savings account? Sort of like topping up, or is that a bad idea?\n",
      "\u001b[94mreddit    \u001b[0mShould I invest in Bitcoin?\n",
      "\u001b[94mreddit    \u001b[0m     Rothscoin?\n",
      "\u001b[94mreddit    \u001b[0mWhat IS Stoichiometry??\n",
      "\u001b[94mreddit    \u001b[0mI picked these up at a flea market today. Anyone have any info on them?\n",
      "\u001b[94mreddit    \u001b[0mSpencerian slant notepads/sheets?\n"
     ]
    }
   ],
   "source": [
    "import pymysql\n",
    "from ques_db import ques_db, Table \n",
    "import time \n",
    "\n",
    "db = ques_db() \n",
    "    \n",
    "def get_table_size(db, table_name):\n",
    "    db.cursor.execute('SELECT count(*) FROM `' + table_name + '`;')\n",
    "    return db.cursor.fetchall()\n",
    "\n",
    "print(get_table_size(db, 'scrapes'))\n",
    "\n",
    "def get_unique_question_count(db, table_name):\n",
    "    db.cursor.execute('SELECT count(DISTINCT question) FROM `' + table_name + '`;')\n",
    "    return db.cursor.fetchall()\n",
    "\n",
    "print(get_unique_question_count(db, 'scrapes'))\n",
    "\n",
    "\n",
    "def get_recent_scrapes(db):\n",
    "    db.cursor.execute('''SELECT * FROM `scrapes` \n",
    "                     ORDER BY Timestamp DESC\n",
    "                     LIMIT 100 \n",
    "                      ''')\n",
    "    return db.cursor.fetchall()\n",
    "\n",
    "class bcolors:\n",
    "    HEADER = '\\033[95m'\n",
    "    OKBLUE = '\\033[94m'\n",
    "    OKCYAN = '\\033[96m'\n",
    "    OKGREEN = '\\033[92m'\n",
    "    WARNING = '\\033[93m'\n",
    "    FAIL = '\\033[91m'\n",
    "    ENDC = '\\033[0m'\n",
    "    BOLD = '\\033[1m'\n",
    "    UNDERLINE = '\\033[4m'\n",
    "    \n",
    "   \n",
    "rows = get_recent_scrapes(db)\n",
    "\n",
    "for row in rows: \n",
    "    print(str(bcolors.OKBLUE + '{:<10}'+ bcolors.ENDC + '{:>15}').format(row['website'], row['question']))\n",
    " \n",
    "\n"
   ]
  },
  {
   "cell_type": "code",
   "execution_count": 4,
   "metadata": {
    "ExecuteTime": {
     "end_time": "2020-10-21T21:23:09.804542Z",
     "start_time": "2020-10-21T21:23:09.746720Z"
    }
   },
   "outputs": [],
   "source": [
    "from IPython.display import clear_output\n",
    "\n",
    "def run_periodically(wait_time):\n",
    "    while True: \n",
    "        clear_output(wait=True)\n",
    "        print(get_recent_scrapes())\n",
    "        time.sleep(wait_time)\n"
   ]
  },
  {
   "cell_type": "code",
   "execution_count": null,
   "metadata": {},
   "outputs": [],
   "source": []
  }
 ],
 "metadata": {
  "kernelspec": {
   "display_name": "Python 3",
   "language": "python",
   "name": "python3"
  },
  "language_info": {
   "codemirror_mode": {
    "name": "ipython",
    "version": 3
   },
   "file_extension": ".py",
   "mimetype": "text/x-python",
   "name": "python",
   "nbconvert_exporter": "python",
   "pygments_lexer": "ipython3",
   "version": "3.7.3"
  }
 },
 "nbformat": 4,
 "nbformat_minor": 2
}
