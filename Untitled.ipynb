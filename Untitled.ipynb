{
 "cells": [
  {
   "cell_type": "code",
   "execution_count": 38,
   "metadata": {
    "ExecuteTime": {
     "end_time": "2021-05-31T03:16:04.856027Z",
     "start_time": "2021-05-31T03:16:04.839075Z"
    }
   },
   "outputs": [
    {
     "name": "stdout",
     "output_type": "stream",
     "text": [
      "before\n",
      "1\n",
      "4\n",
      "7\n",
      "8\n",
      "after\n",
      "7\n",
      "8\n",
      "1\n",
      "4\n"
     ]
    }
   ],
   "source": [
    "\n",
    "\n",
    "class LL: \n",
    "    def __init__(self, value): \n",
    "        self.next = None \n",
    "        self.val = value\n",
    "            \n",
    "    \n",
    "    \n",
    "head = LL(1)\n",
    "\n",
    "head.next = LL(4)\n",
    "head.next.next = LL(7)\n",
    "head.next.next.next = LL(8)\n",
    "\n",
    "\n",
    "def print_LL(head): \n",
    "    this_node = head\n",
    "    while(this_node.next): \n",
    "        print(this_node.val)\n",
    "        this_node = this_node.next\n",
    "    print(this_node.val)\n",
    "\n",
    "    \n",
    "\n",
    "def rotate_LL(head, rots): \n",
    "    \n",
    "    this_node = head \n",
    "    while(this_node.next): \n",
    "        this_node = this_node.next\n",
    "    tail = this_node \n",
    "    tail.next = head \n",
    "    \n",
    "    this_node = head\n",
    "    for x in range(rots-1): \n",
    "        this_node = this_node.next \n",
    "    chop_node = this_node \n",
    "    new_head = chop_node.next\n",
    "    chop_node.next = None \n",
    "    \n",
    "    return new_head \n",
    "    \n",
    "    \n",
    "    \n",
    "print('before')   \n",
    "print_LL(head)\n",
    "\n",
    "new_head = rotate_LL(head, 2)   \n",
    "print('after')\n",
    "print_LL(new_head)\n",
    "\n",
    "    \n",
    "\n",
    "\n",
    "            "
   ]
  },
  {
   "cell_type": "code",
   "execution_count": null,
   "metadata": {},
   "outputs": [],
   "source": []
  },
  {
   "cell_type": "code",
   "execution_count": null,
   "metadata": {},
   "outputs": [],
   "source": []
  }
 ],
 "metadata": {
  "kernelspec": {
   "display_name": "Python 3",
   "language": "python",
   "name": "python3"
  },
  "language_info": {
   "codemirror_mode": {
    "name": "ipython",
    "version": 3
   },
   "file_extension": ".py",
   "mimetype": "text/x-python",
   "name": "python",
   "nbconvert_exporter": "python",
   "pygments_lexer": "ipython3",
   "version": "3.7.3"
  }
 },
 "nbformat": 4,
 "nbformat_minor": 2
}
