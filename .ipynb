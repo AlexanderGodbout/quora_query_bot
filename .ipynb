{
 "cells": [
  {
   "cell_type": "markdown",
   "metadata": {},
   "source": [
    "# Revenue "
   ]
  },
  {
   "cell_type": "code",
   "execution_count": 111,
   "metadata": {
    "ExecuteTime": {
     "end_time": "2020-09-14T04:52:00.933457Z",
     "start_time": "2020-09-14T04:52:00.916277Z"
    }
   },
   "outputs": [
    {
     "name": "stdout",
     "output_type": "stream",
     "text": [
      "0.09\n"
     ]
    }
   ],
   "source": [
    "Q_value = 0.09 # dollars/Q\n",
    "\n",
    "revenue = Q_value # dollars/Q\n",
    "\n",
    "print(revenue)\n"
   ]
  },
  {
   "cell_type": "markdown",
   "metadata": {},
   "source": [
    "# Recurring Costs"
   ]
  },
  {
   "cell_type": "code",
   "execution_count": 112,
   "metadata": {
    "ExecuteTime": {
     "end_time": "2020-09-14T04:52:00.954210Z",
     "start_time": "2020-09-14T04:52:00.938406Z"
    },
    "scrolled": true
   },
   "outputs": [
    {
     "name": "stdout",
     "output_type": "stream",
     "text": [
      "0.0\n"
     ]
    }
   ],
   "source": [
    "Q_accept_rate = 0.3 #accepted/viewed\n",
    "eval_rate = 30/10 #sec/Q\n",
    "\n",
    "find_Q_time = Eval_rate/Q_Accept_Rate \n",
    "add_Q_time = 17  # sec/Q\n",
    "request_A_time = 25 # sec/Q\n",
    "\n",
    "Alex_time = 0 #find_Q_time  #sec /Q\n",
    "Upwork_time = add_Q_time + request_A_time   #sec / Q\n",
    "\n",
    "Alex_rate = 70  / 60 / 60  # dollars/sec \n",
    "Upwork_rate = 7 / 60 / 60  # dollars/sec\n",
    "\n",
    "cost = Alex_time * Alex_rate + Upwork_time * Upwork_rate  # dollars / Q\n",
    "print(cost)"
   ]
  },
  {
   "cell_type": "markdown",
   "metadata": {},
   "source": [
    "# One-Time Costs"
   ]
  },
  {
   "cell_type": "code",
   "execution_count": null,
   "metadata": {},
   "outputs": [],
   "source": []
  },
  {
   "cell_type": "markdown",
   "metadata": {},
   "source": [
    "# Profits"
   ]
  },
  {
   "cell_type": "code",
   "execution_count": 113,
   "metadata": {
    "ExecuteTime": {
     "end_time": "2020-09-14T04:52:00.966030Z",
     "start_time": "2020-09-14T04:52:00.958683Z"
    }
   },
   "outputs": [
    {
     "name": "stdout",
     "output_type": "stream",
     "text": [
      "1080.0\n"
     ]
    }
   ],
   "source": [
    "profits = (revenue - cost)\n",
    "Q_per_day = 400 \n",
    "\n",
    "monthly_profits = 30* Q_per_day * profits\n",
    "\n",
    "print(monthly_profits)"
   ]
  },
  {
   "cell_type": "code",
   "execution_count": null,
   "metadata": {
    "ExecuteTime": {
     "end_time": "2020-09-14T03:53:43.400997Z",
     "start_time": "2020-09-14T03:53:43.388275Z"
    }
   },
   "outputs": [],
   "source": [
    "\n"
   ]
  }
 ],
 "metadata": {
  "kernelspec": {
   "display_name": "Python 3",
   "language": "python",
   "name": "python3"
  },
  "language_info": {
   "codemirror_mode": {
    "name": "ipython",
    "version": 3
   },
   "file_extension": ".py",
   "mimetype": "text/x-python",
   "name": "python",
   "nbconvert_exporter": "python",
   "pygments_lexer": "ipython3",
   "version": "3.7.3"
  }
 },
 "nbformat": 4,
 "nbformat_minor": 2
}
